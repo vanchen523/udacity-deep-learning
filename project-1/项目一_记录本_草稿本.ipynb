{
 "cells": [
  {
   "cell_type": "markdown",
   "metadata": {},
   "source": [
    "# 目录\n",
    "\n",
    "## 1-加载和数据准备。\n",
    "## 2-数据简介\n",
    "> 1.虚拟变量（哑变量）\n",
    " 2.调整目标变量\n",
    " 3.将数据拆分成训练、测试和验证数据集\n",
    "\n",
    "## 开始构建网络\n",
    "## 单元测试\n",
    "## 训练网络\n",
    "> 1.选择迭代次数\n",
    " 2.选择学习速率\n",
    " 3.选择隐藏节点数量\n",
    "\n",
    "## 检查预测结果"
   ]
  },
  {
   "cell_type": "code",
   "execution_count": 24,
   "metadata": {
    "collapsed": true
   },
   "outputs": [],
   "source": [
    "import numpy as np\n",
    "\n",
    "? np.shape"
   ]
  },
  {
   "cell_type": "code",
   "execution_count": 51,
   "metadata": {
    "collapsed": true
   },
   "outputs": [],
   "source": [
    "inputs = np.array([[0.5, -0.2, 0.1]])\n",
    "targets = np.array([[0.4]])\n",
    "delta_w_i_h = np.array([[0.1, -0.2],\n",
    "                       [0.4, 0.5],\n",
    "                       [-0.3, 0.2]])\n",
    "delta_w_h_o = np.array([[0.3],\n",
    "                       [-0.1]])\n",
    "\n",
    "X=inputs\n",
    "delta_weights_i_h=delta_w_i_h\n",
    "delta_weigths_h_o=delta_w_h_o\n"
   ]
  },
  {
   "cell_type": "code",
   "execution_count": 38,
   "metadata": {},
   "outputs": [
    {
     "name": "stdout",
     "output_type": "stream",
     "text": [
      "[[[ 0.5 -0.2  0.1]]]\n"
     ]
    }
   ],
   "source": [
    "np.shape(inputs[:,None])\n",
    "print(inputs[:,None])"
   ]
  },
  {
   "cell_type": "code",
   "execution_count": 39,
   "metadata": {
    "collapsed": true
   },
   "outputs": [],
   "source": [
    "activation_function = lambda x : 1 / (1 + np.exp(-x))  # Replace 0 with your sigmoid calculation."
   ]
  },
  {
   "cell_type": "code",
   "execution_count": 54,
   "metadata": {
    "collapsed": true
   },
   "outputs": [],
   "source": [
    "class NeuralNetwork(object):\n",
    "    def __init__(self, input_nodes, hidden_nodes, output_nodes, learning_rate):\n",
    "        # Set number of nodes in input, hidden and output layers.\n",
    "        self.input_nodes = input_nodes\n",
    "        self.hidden_nodes = hidden_nodes\n",
    "        self.output_nodes = output_nodes\n",
    "\n",
    "        # Initialize weights\n",
    "        self.weights_input_to_hidden = np.random.normal(0.0, self.input_nodes**-0.5, \n",
    "                                       (self.input_nodes, self.hidden_nodes))\n",
    "\n",
    "        self.weights_hidden_to_output = np.random.normal(0.0, self.hidden_nodes**-0.5, \n",
    "                                       (self.hidden_nodes, self.output_nodes))\n",
    "        self.lr = learning_rate\n",
    "        \n",
    "        #### TODO: Set self.activation_function to your implemented sigmoid function ####\n",
    "        #\n",
    "        # Note: in Python, you can define a function with a lambda expression,\n",
    "        # as shown below.\n",
    "        self.activation_function = lambda x : 1 / (1 + np.exp(-x))  # Replace 0 with your sigmoid calculation.\n",
    "        \n",
    "        ### If the lambda code above is not something you're familiar with,\n",
    "        # You can uncomment out the following three lines and put your \n",
    "        # implementation there instead.\n",
    "        #\n",
    "        #def sigmoid(x):\n",
    "        #    return 0  # Replace 0 with your sigmoid calculation here\n",
    "        #self.activation_function = sigmoid\n",
    "                    \n",
    "    \n",
    "    def train(self, features, targets):\n",
    "        ''' Train the network on batch of features and targets. \n",
    "        \n",
    "            Arguments\n",
    "            ---------\n",
    "            \n",
    "            features: 2D array, each row is one data record, each column is a feature\n",
    "            targets: 1D array of target values\n",
    "        \n",
    "        '''\n",
    "        n_records = features.shape[0]\n",
    "        delta_weights_i_h = np.zeros(self.weights_input_to_hidden.shape)\n",
    "        delta_weights_h_o = np.zeros(self.weights_hidden_to_output.shape)\n",
    "        for X, y in zip(features, targets):\n",
    "            #### Implement the forward pass here ####\n",
    "            ### Forward pass ###\n",
    "            # TODO: Hidden layer - Replace these values with your calculations.\n",
    "            hidden_inputs = np.dot(X, delta_weights_i_h) # signals into hidden layer\n",
    "            hidden_outputs = self.activation_function(hidden_inputs) # signals from hidden layer\n",
    "\n",
    "            # TODO: Output layer - Replace these values with your calculations.\n",
    "            final_inputs = np.dot(hidden_outputs, delta_weights_h_o) # signals into final output layer\n",
    "            final_outputs = final_inputs # signals from final output layer\n",
    "            \n",
    "            #### Implement the backward pass here ####\n",
    "            ### Backward pass ###\n",
    "\n",
    "            # TODO: Output error - Replace this value with your calculations.\n",
    "            error = y - final_outputs # Output layer error is the difference between desired target and actual output.\n",
    "            \n",
    "            # TODO: Calculate the hidden layer's contribution to the error\n",
    "            hidden_error = np.dot(self.weights_hidden_to_output,error)\n",
    "            \n",
    "            # TODO: Backpropagated error terms - Replace these values with your calculations.\n",
    "            output_error_term = error\n",
    "            hidden_error_term = hidden_error * hidden_outputs * (1 - hidden_outputs)\n",
    "\n",
    "            # Weight step (input to hidden)\n",
    "            delta_weights_i_h += self.lr * np.dot(X[:,None], hidden_error_term.T）\n",
    "            # Weight step (hidden to output)\n",
    "            delta_weights_h_o += self.lr * output_error_term * hidden_outputs[:,None]\n",
    "\n",
    "        # TODO: Update the weights - Replace these values with your calculations.\n",
    "        self.weights_hidden_to_output += delta_weights_h_o # update hidden-to-output weights with gradient descent step\n",
    "        self.weights_input_to_hidden += delta_weights_i_h # update input-to-hidden weights with gradient descent step\n",
    " \n",
    "    def run(self, features):\n",
    "        ''' Run a forward pass through the network with input features \n",
    "        \n",
    "            Arguments\n",
    "            ---------\n",
    "            features: 1D array of feature values\n",
    "        '''\n",
    "        \n",
    "        #### Implement the forward pass here ####\n",
    "        # TODO: Hidden layer - replace these values with the appropriate calculations.\n",
    "        hidden_inputs = np.dot(features, self.weights_input_to_hidden) # signals into hidden layer\n",
    "        hidden_outputs = self.activation_function(hidden_inputs) # signals from hidden layer\n",
    "        \n",
    "        # TODO: Output layer - Replace these values with the appropriate calculations.\n",
    "        final_inputs = np.dot(hidden_outputs, self.weights_hidden_to_output) # signals into final output layer\n",
    "        final_outputs = final_inputs # signals from final output layer \n",
    "    \n",
    "        return final_outputs"
   ]
  },
  {
   "cell_type": "code",
   "execution_count": 55,
   "metadata": {
    "collapsed": true
   },
   "outputs": [],
   "source": [
    "import unittest\n",
    "\n",
    "inputs = np.array([[0.5, -0.2, 0.1]])\n",
    "targets = np.array([[0.4]])\n",
    "test_w_i_h = np.array([[0.1, -0.2],\n",
    "                       [0.4, 0.5],\n",
    "                       [-0.3, 0.2]])\n",
    "test_w_h_o = np.array([[0.3],\n",
    "                       [-0.1]])\n",
    "\n",
    "class TestMethods(unittest.TestCase):\n",
    "    \n",
    "    ##########\n",
    "    # Unit tests for data loading\n",
    "    ##########\n",
    "    \n",
    "    def test_data_path(self):\n",
    "        # Test that file path to dataset has been unaltered\n",
    "        self.assertTrue(data_path.lower() == 'bike-sharing-dataset/hour.csv')\n",
    "        \n",
    "    def test_data_loaded(self):\n",
    "        # Test that data frame loaded\n",
    "        self.assertTrue(isinstance(rides, pd.DataFrame))\n",
    "    \n",
    "    ##########\n",
    "    # Unit tests for network functionality\n",
    "    ##########\n",
    "\n",
    "    def test_activation(self):\n",
    "        network = NeuralNetwork(3, 2, 1, 0.5)\n",
    "        # Test that the activation function is a sigmoid\n",
    "        self.assertTrue(np.all(network.activation_function(0.5) == 1/(1+np.exp(-0.5))))\n",
    "\n",
    "    def test_train(self):\n",
    "        # Test that weights are updated correctly on training\n",
    "        network = NeuralNetwork(3, 2, 1, 0.5)\n",
    "        network.weights_input_to_hidden = test_w_i_h.copy()\n",
    "        network.weights_hidden_to_output = test_w_h_o.copy()\n",
    "        \n",
    "        network.train(inputs, targets)\n",
    "#         self.assertTrue(np.allclose(network.weights_hidden_to_output, \n",
    "#                                     np.array([[ 0.37275328], \n",
    "#                                               [-0.03172939]])))\n",
    "#         self.assertTrue(np.allclose(network.weights_input_to_hidden,\n",
    "#                                     np.array([[ 0.10562014, -0.20185996], \n",
    "#                                               [0.39775194, 0.50074398], \n",
    "#                                               [-0.29887597, 0.19962801]])))"
   ]
  },
  {
   "cell_type": "code",
   "execution_count": 42,
   "metadata": {},
   "outputs": [
    {
     "name": "stdout",
     "output_type": "stream",
     "text": [
      "[[ 0.1075 -0.2025]\n",
      " [ 0.397   0.501 ]\n",
      " [-0.2985  0.1995]]\n",
      "[[ 0.4]\n",
      " [ 0. ]]\n"
     ]
    }
   ],
   "source": [
    "print(network.weights_input_to_hidden)\n",
    "print(network.weights_hidden_to_output)"
   ]
  },
  {
   "cell_type": "code",
   "execution_count": 90,
   "metadata": {},
   "outputs": [
    {
     "data": {
      "text/plain": [
       "(2, 1)"
      ]
     },
     "execution_count": 90,
     "metadata": {},
     "output_type": "execute_result"
    }
   ],
   "source": [
    "inputs = np.array([[0.5, -0.2, 0.1]])\n",
    "targets = np.array([[0.4]])\n",
    "delta_w_i_h = np.array([[0.1, -0.2],\n",
    "                       [0.4, 0.5],\n",
    "                       [-0.3, 0.2]])\n",
    "delta_w_h_o = np.array([[0.3],\n",
    "                       [-0.1]])\n",
    "\n",
    "np.shape(delta_w_i_h)\n",
    "np.shape(delta_w_h_o)"
   ]
  },
  {
   "cell_type": "code",
   "execution_count": 1,
   "metadata": {},
   "outputs": [
    {
     "name": "stdout",
     "output_type": "stream",
     "text": [
      "x (1, 3)\n",
      "weights_hidden_output (2, 1)\n",
      "hidden_layer_output (1, 2)\n",
      "output [[ 0.09998924]] (1, 1)\n",
      "error [[ 0.50001076]] (1, 1)\n",
      "output_error_term [[ 0.50001076]] (1, 1)\n",
      "hidden_error [[ 0.15000323]\n",
      " [-0.05000108]] (2, 1)\n",
      "hidden_layer_output * (1 - hidden_layer_output) [[ 0.24977513  0.24798589]]\n",
      "***hidden_error_term [[ 0.03746708]\n",
      " [-0.01239956]] (2, 1)\n",
      "delta_w_h_o [[ 0.12125373]\n",
      " [ 0.11378273]] (2, 1)\n",
      "delta_w_i_h [[ 0.00936677 -0.00309989]\n",
      " [-0.00374671  0.00123996]\n",
      " [ 0.00187335 -0.00061998]] (3, 2)\n"
     ]
    }
   ],
   "source": [
    "import numpy as np\n",
    "\n",
    "\n",
    "def sigmoid(x):\n",
    "    \"\"\"\n",
    "    Calculate sigmoid\n",
    "    \"\"\"\n",
    "    return 1 / (1 + np.exp(-x))\n",
    "\n",
    "\n",
    "x = np.array([[0.5, -0.2, 0.1]])\n",
    "target = np.array([[0.6]])\n",
    "learnrate = 0.5\n",
    "\n",
    "weights_input_hidden = np.array([[0.1, -0.2],\n",
    "                                 [0.4, 0.5],\n",
    "                                 [-0.3, 0.2]])\n",
    "\n",
    "weights_hidden_output = np.array([[0.3],\n",
    "                                  [-0.1]])\n",
    "\n",
    "print(\"x\",np.shape(x))\n",
    "# print(\"x[:,None]\",np.shape(x[:,None]))\n",
    "print(\"weights_hidden_output\",np.shape(weights_hidden_output))\n",
    "# inputs = np.array([[0.5, -0.2, 0.1]])\n",
    "# targets = np.array([[0.4]])\n",
    "# delta_w_i_h = np.array([[0.1, -0.2],\n",
    "#                        [0.4, 0.5],\n",
    "#                        [-0.3, 0.2]])\n",
    "# delta_w_h_o = np.array([[0.3],\n",
    "#                        [-0.1]])\n",
    "\n",
    "\n",
    "hidden_layer_input = np.dot(x, weights_input_hidden)\n",
    "\n",
    "hidden_layer_output = sigmoid(hidden_layer_input)\n",
    "print(\"hidden_layer_output\",np.shape(hidden_layer_output))\n",
    "output_layer_in = np.dot(hidden_layer_output, weights_hidden_output)\n",
    "\n",
    "output = output_layer_in\n",
    "print(\"output\",output,np.shape(output))\n",
    "\n",
    "error = target-output\n",
    "print(\"error\",error,np.shape(error))\n",
    "\n",
    "output_error_term = error * 1\n",
    "print(\"output_error_term\",output_error_term,np.shape(output_error_term))\n",
    "\n",
    "hidden_error = output_error_term*weights_hidden_output\n",
    "print(\"hidden_error\",hidden_error,np.shape(hidden_error))\n",
    "\n",
    "# print(\"hidden_layer_output * (1 - hidden_layer_output)\",hidden_layer_output * (1 - hidden_layer_output))\n",
    "hidden_error_term = hidden_error * (hidden_layer_output * (1 - hidden_layer_output)).T\n",
    "print(\"***hidden_error_term\",hidden_error_term,np.shape(hidden_error_term))\n",
    "\n",
    "delta_w_h_o = learnrate* np.dot(hidden_layer_output.T, output_error_term)\n",
    "# print(\"hidden_layer_output\",hidden_layer_output,np.shape(hidden_layer_output))\n",
    "print(\"delta_w_h_o\",delta_w_h_o,np.shape(delta_w_h_o))\n",
    "\n",
    "delta_w_i_h = learnrate* np.dot(x.T,hidden_error_term.T)\n",
    "print(\"delta_w_i_h\",delta_w_i_h,np.shape(delta_w_i_h))\n",
    "\n",
    "weights_hidden_output += delta_w_h_o\n",
    "weights_input_hidden += delta_w_i_h\n",
    "# print('weights for hidden layer to output layer:')\n",
    "# print(weights_hidden_output)\n",
    "# print('weights for input layer to hidden layer:')\n",
    "# print(weights_input_hidden)"
   ]
  },
  {
   "cell_type": "code",
   "execution_count": 42,
   "metadata": {
    "collapsed": true
   },
   "outputs": [],
   "source": [
    "# ***hidden_error_term [[ 0.0009075   0.00085158]]\n",
    "# ***hidden_error_term [[ 0.00096341  0.00101931]]"
   ]
  },
  {
   "cell_type": "code",
   "execution_count": 4,
   "metadata": {},
   "outputs": [
    {
     "ename": "TypeError",
     "evalue": "unsupported operand type(s) for -: 'int' and 'list'",
     "output_type": "error",
     "traceback": [
      "\u001b[1;31m---------------------------------------------------------------------------\u001b[0m",
      "\u001b[1;31mTypeError\u001b[0m                                 Traceback (most recent call last)",
      "\u001b[1;32m<ipython-input-4-e2d7d23dea75>\u001b[0m in \u001b[0;36m<module>\u001b[1;34m()\u001b[0m\n\u001b[1;32m----> 1\u001b[1;33m \u001b[1;33m[\u001b[0m \u001b[1;36m0.4850045\u001b[0m\u001b[1;33m,\u001b[0m   \u001b[1;36m0.45512111\u001b[0m\u001b[1;33m]\u001b[0m \u001b[1;33m*\u001b[0m \u001b[1;33m(\u001b[0m\u001b[1;36m1\u001b[0m \u001b[1;33m-\u001b[0m \u001b[1;33m[\u001b[0m \u001b[1;36m0.4850045\u001b[0m\u001b[1;33m,\u001b[0m   \u001b[1;36m0.45512111\u001b[0m\u001b[1;33m]\u001b[0m\u001b[1;33m)\u001b[0m\u001b[1;33m\u001b[0m\u001b[0m\n\u001b[0m",
      "\u001b[1;31mTypeError\u001b[0m: unsupported operand type(s) for -: 'int' and 'list'"
     ]
    }
   ],
   "source": [
    "[ 0.4850045,   0.45512111] * (1 - [ 0.4850045,   0.45512111])"
   ]
  },
  {
   "cell_type": "code",
   "execution_count": 20,
   "metadata": {},
   "outputs": [
    {
     "name": "stdout",
     "output_type": "stream",
     "text": [
      "(2,)\n",
      "[ 0.4850045   0.45512111]\n",
      "[ 0.5149955   0.54487889]\n"
     ]
    },
    {
     "data": {
      "text/plain": [
       "array([ 0.24977513,  0.24798589])"
      ]
     },
     "execution_count": 20,
     "metadata": {},
     "output_type": "execute_result"
    }
   ],
   "source": [
    "a = np.array([ 0.4850045, 0.45512111])\n",
    "print(np.shape(a))\n",
    "print(a)\n",
    "b = np.ones(a.shape) - a\n",
    "print(b)\n",
    "a * b "
   ]
  },
  {
   "cell_type": "code",
   "execution_count": 25,
   "metadata": {},
   "outputs": [
    {
     "name": "stdout",
     "output_type": "stream",
     "text": [
      "[[ 0.5]\n",
      " [-0.2]\n",
      " [ 0.1]] (3, 1)\n"
     ]
    }
   ],
   "source": [
    "X = np.array([[0.5, -0.2, 0.1]])\n",
    "\n",
    "print(X.T,np.shape(X.T))"
   ]
  },
  {
   "cell_type": "code",
   "execution_count": 41,
   "metadata": {},
   "outputs": [
    {
     "name": "stdout",
     "output_type": "stream",
     "text": [
      "b[:,None] [[ 0.24977513]\n",
      " [ 0.24798589]]\n",
      "c [[ 0.02248057]\n",
      " [-0.00743984]]\n"
     ]
    }
   ],
   "source": [
    "hidden_error = np.array([[ 0.09000323],\n",
    "                        [-0.03000108]] )\n",
    "\n",
    "b = np.array([ 0.24977513,  0.24798589])\n",
    "print(\"b[:,None]\",b[:,None])\n",
    "hidden_error_term = np.array([[ 0.02248057,  0.02231953],\n",
    "                             [-0.00749352, -0.00743984]])\n",
    "\n",
    "# print(hidden_error,np.shape(hidden_error))\n",
    "\n",
    "c = hidden_error*b[:,None]\n",
    "print(\"c\",c)"
   ]
  },
  {
   "cell_type": "code",
   "execution_count": 44,
   "metadata": {},
   "outputs": [
    {
     "name": "stdout",
     "output_type": "stream",
     "text": [
      "[[ 0.10562014 -0.20185996]\n",
      " [ 0.39775194  0.50074398]\n",
      " [-0.29887597  0.19962801]]\n"
     ]
    }
   ],
   "source": [
    "delta_w_ih=np.array([[ 0.00562014, -0.00185996],\n",
    "                     [-0.00224806,  0.00074398],\n",
    "                     [ 0.00112403, -0.00037199]])\n",
    "w = np.array([[0.1, -0.2],\n",
    "              [0.4, 0.5],\n",
    "              [-0.3, 0.2]])\n",
    "\n",
    "w += delta_w_ih\n",
    "print(w)\n",
    "\n",
    "######## \"w_ih\"测试成功！！！"
   ]
  },
  {
   "cell_type": "code",
   "execution_count": 51,
   "metadata": {},
   "outputs": [
    {
     "name": "stdout",
     "output_type": "stream",
     "text": [
      "[[ 0.14550657]\n",
      " [ 0.13654123]]\n"
     ]
    }
   ],
   "source": [
    "a_j = np.array([ 0.4850045,   0.45512111])\n",
    "term_o = np.array([ 0.30001076])\n",
    "\n",
    "delta_w_ho = (a_j * term_o)[:,None]\n",
    "print(delta_w_ho)\n",
    "\n",
    "w = np.array([[0.3],\n",
    "              [-0.1]])\n"
   ]
  }
 ],
 "metadata": {
  "kernelspec": {
   "display_name": "Python 3",
   "language": "python",
   "name": "python3"
  },
  "language_info": {
   "codemirror_mode": {
    "name": "ipython",
    "version": 3
   },
   "file_extension": ".py",
   "mimetype": "text/x-python",
   "name": "python",
   "nbconvert_exporter": "python",
   "pygments_lexer": "ipython3",
   "version": "3.6.4"
  }
 },
 "nbformat": 4,
 "nbformat_minor": 2
}
